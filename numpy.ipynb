{
 "cells": [
  {
   "cell_type": "code",
   "execution_count": 61,
   "id": "0e5237d2",
   "metadata": {},
   "outputs": [],
   "source": [
    "import numpy as np\n",
    "import pandas as pd"
   ]
  },
  {
   "cell_type": "code",
   "execution_count": 25,
   "id": "c3e194ac",
   "metadata": {},
   "outputs": [],
   "source": [
    "a = np.array(['a', 1, \"b\"])"
   ]
  },
  {
   "cell_type": "code",
   "execution_count": 26,
   "id": "23de6090",
   "metadata": {},
   "outputs": [
    {
     "data": {
      "text/plain": [
       "array(['a', '1', 'b'], dtype='<U11')"
      ]
     },
     "execution_count": 26,
     "metadata": {},
     "output_type": "execute_result"
    }
   ],
   "source": [
    "a"
   ]
  },
  {
   "cell_type": "code",
   "execution_count": 30,
   "id": "63cf0f3a",
   "metadata": {},
   "outputs": [
    {
     "data": {
      "text/plain": [
       "numpy.ndarray"
      ]
     },
     "execution_count": 30,
     "metadata": {},
     "output_type": "execute_result"
    }
   ],
   "source": [
    "type(a)"
   ]
  },
  {
   "cell_type": "code",
   "execution_count": 29,
   "id": "bb9f1429",
   "metadata": {},
   "outputs": [
    {
     "data": {
      "text/plain": [
       "numpy.ndarray"
      ]
     },
     "execution_count": 29,
     "metadata": {},
     "output_type": "execute_result"
    }
   ],
   "source": [
    "b=np.array([1,2,3])\n",
    "type(b)"
   ]
  },
  {
   "cell_type": "code",
   "execution_count": 31,
   "id": "09de936b",
   "metadata": {},
   "outputs": [
    {
     "name": "stdout",
     "output_type": "stream",
     "text": [
      "[1 2 9]\n"
     ]
    }
   ],
   "source": [
    "b[2] = 9\n",
    "print(b)"
   ]
  },
  {
   "cell_type": "code",
   "execution_count": 32,
   "id": "cd08ee76",
   "metadata": {},
   "outputs": [
    {
     "data": {
      "text/plain": [
       "(3,)"
      ]
     },
     "execution_count": 32,
     "metadata": {},
     "output_type": "execute_result"
    }
   ],
   "source": [
    "b.shape"
   ]
  },
  {
   "cell_type": "code",
   "execution_count": 33,
   "id": "04a2e53c",
   "metadata": {},
   "outputs": [
    {
     "data": {
      "text/plain": [
       "array([['a', 'a', 'a'],\n",
       "       ['a', 'a', 'a']], dtype='<U1')"
      ]
     },
     "execution_count": 33,
     "metadata": {},
     "output_type": "execute_result"
    }
   ],
   "source": [
    "c = np.full((2,3), \"a\") #np.full(shape, value)\n",
    "c"
   ]
  },
  {
   "cell_type": "code",
   "execution_count": 37,
   "id": "15fb98e3",
   "metadata": {},
   "outputs": [
    {
     "data": {
      "text/plain": [
       "array([[[0., 0., 0.],\n",
       "        [0., 0., 0.],\n",
       "        [0., 0., 0.]],\n",
       "\n",
       "       [[0., 0., 0.],\n",
       "        [0., 0., 0.],\n",
       "        [0., 0., 0.]]])"
      ]
     },
     "execution_count": 37,
     "metadata": {},
     "output_type": "execute_result"
    }
   ],
   "source": [
    "np.zeros((2,3,3)) #creates array with all 0s"
   ]
  },
  {
   "cell_type": "code",
   "execution_count": 38,
   "id": "d0ed1f09",
   "metadata": {},
   "outputs": [
    {
     "data": {
      "text/plain": [
       "array([[[1., 1., 1.],\n",
       "        [1., 1., 1.],\n",
       "        [1., 1., 1.]],\n",
       "\n",
       "       [[1., 1., 1.],\n",
       "        [1., 1., 1.],\n",
       "        [1., 1., 1.]]])"
      ]
     },
     "execution_count": 38,
     "metadata": {},
     "output_type": "execute_result"
    }
   ],
   "source": [
    "np.ones((2,3,3))#creates array with all 1s"
   ]
  },
  {
   "cell_type": "code",
   "execution_count": 40,
   "id": "d4c5a5b0",
   "metadata": {},
   "outputs": [
    {
     "data": {
      "text/plain": [
       "[0, 0, 0, 0, 0, 0, 0, 0, 0, 0, 0, 0, 0, 0, 0, 0, 0, 0, 0, 0]"
      ]
     },
     "execution_count": 40,
     "metadata": {},
     "output_type": "execute_result"
    }
   ],
   "source": [
    "[0]*10 # pythonic"
   ]
  },
  {
   "cell_type": "code",
   "execution_count": 51,
   "id": "736e4a0c",
   "metadata": {},
   "outputs": [
    {
     "data": {
      "text/plain": [
       "array([2.12199579e-314, 6.95187041e-310, 8.51769173e-321, 3.79442416e-321])"
      ]
     },
     "execution_count": 51,
     "metadata": {},
     "output_type": "execute_result"
    }
   ],
   "source": [
    "a1 = np.empty((4,)) #empty allocates memory without initializing values,hence we got memory here\n",
    "a1"
   ]
  },
  {
   "cell_type": "code",
   "execution_count": 52,
   "id": "4fb1c9b7",
   "metadata": {},
   "outputs": [
    {
     "data": {
      "text/plain": [
       "array([2.000e+000, 3.000e+000, 8.518e-321, 3.794e-321])"
      ]
     },
     "execution_count": 52,
     "metadata": {},
     "output_type": "execute_result"
    }
   ],
   "source": [
    "a1[0]=2\n",
    "a1[1] =3\n",
    "a1"
   ]
  },
  {
   "cell_type": "code",
   "execution_count": 53,
   "id": "eafb9659",
   "metadata": {},
   "outputs": [
    {
     "data": {
      "text/plain": [
       "array([1, 2, 3, 4, 5, 6, 7, 8, 9])"
      ]
     },
     "execution_count": 53,
     "metadata": {},
     "output_type": "execute_result"
    }
   ],
   "source": [
    "np.arange(1,10)"
   ]
  },
  {
   "cell_type": "code",
   "execution_count": 54,
   "id": "f6caa3b5",
   "metadata": {},
   "outputs": [
    {
     "data": {
      "text/plain": [
       "array([1, 3, 5, 7, 9])"
      ]
     },
     "execution_count": 54,
     "metadata": {},
     "output_type": "execute_result"
    }
   ],
   "source": [
    "np.arange(1,10, 2)"
   ]
  },
  {
   "cell_type": "code",
   "execution_count": 57,
   "id": "0d9dbed2",
   "metadata": {},
   "outputs": [
    {
     "data": {
      "text/plain": [
       "array([  0.,  25.,  50.,  75., 100.])"
      ]
     },
     "execution_count": 57,
     "metadata": {},
     "output_type": "execute_result"
    }
   ],
   "source": [
    "#linspace(start, end, number of values to be equally distributed from each other). Generally used in matplotib\n",
    "np.linspace(0, 100, 5)"
   ]
  },
  {
   "cell_type": "code",
   "execution_count": 58,
   "id": "82562e97",
   "metadata": {},
   "outputs": [
    {
     "data": {
      "text/plain": [
       "inf"
      ]
     },
     "execution_count": 58,
     "metadata": {},
     "output_type": "execute_result"
    }
   ],
   "source": [
    "np.inf #infinite"
   ]
  },
  {
   "cell_type": "code",
   "execution_count": 60,
   "id": "be20a05e",
   "metadata": {},
   "outputs": [
    {
     "data": {
      "text/plain": [
       "False"
      ]
     },
     "execution_count": 60,
     "metadata": {},
     "output_type": "execute_result"
    }
   ],
   "source": [
    "None == np.nan "
   ]
  },
  {
   "cell_type": "code",
   "execution_count": 65,
   "id": "7fcdd7b1",
   "metadata": {},
   "outputs": [
    {
     "data": {
      "text/plain": [
       "False"
      ]
     },
     "execution_count": 65,
     "metadata": {},
     "output_type": "execute_result"
    }
   ],
   "source": [
    "pd.NaT == np.nan"
   ]
  },
  {
   "cell_type": "code",
   "execution_count": 66,
   "id": "d0f7e980",
   "metadata": {},
   "outputs": [
    {
     "data": {
      "text/plain": [
       "False"
      ]
     },
     "execution_count": 66,
     "metadata": {},
     "output_type": "execute_result"
    }
   ],
   "source": [
    "pd.NaT == False"
   ]
  },
  {
   "cell_type": "code",
   "execution_count": 67,
   "id": "0e7355a0",
   "metadata": {},
   "outputs": [
    {
     "data": {
      "text/plain": [
       "True"
      ]
     },
     "execution_count": 67,
     "metadata": {},
     "output_type": "execute_result"
    }
   ],
   "source": [
    "pd.isna(np.nan)"
   ]
  },
  {
   "cell_type": "code",
   "execution_count": 68,
   "id": "5df341bf",
   "metadata": {},
   "outputs": [
    {
     "data": {
      "text/plain": [
       "True"
      ]
     },
     "execution_count": 68,
     "metadata": {},
     "output_type": "execute_result"
    }
   ],
   "source": [
    "pd.isna(pd.NaT)"
   ]
  },
  {
   "cell_type": "code",
   "execution_count": 69,
   "id": "dddcca18",
   "metadata": {},
   "outputs": [
    {
     "data": {
      "text/plain": [
       "True"
      ]
     },
     "execution_count": 69,
     "metadata": {},
     "output_type": "execute_result"
    }
   ],
   "source": [
    "pd.isna(None)"
   ]
  },
  {
   "cell_type": "code",
   "execution_count": 70,
   "id": "493cae8d",
   "metadata": {},
   "outputs": [
    {
     "data": {
      "text/plain": [
       "True"
      ]
     },
     "execution_count": 70,
     "metadata": {},
     "output_type": "execute_result"
    }
   ],
   "source": [
    "np.isnan(np.nan)"
   ]
  },
  {
   "cell_type": "code",
   "execution_count": 71,
   "id": "84a5aa12",
   "metadata": {},
   "outputs": [
    {
     "ename": "TypeError",
     "evalue": "ufunc 'isnan' not supported for the input types, and the inputs could not be safely coerced to any supported types according to the casting rule ''safe''",
     "output_type": "error",
     "traceback": [
      "\u001b[1;31m---------------------------------------------------------------------------\u001b[0m",
      "\u001b[1;31mTypeError\u001b[0m                                 Traceback (most recent call last)",
      "\u001b[1;32m~\\AppData\\Local\\Temp\\ipykernel_4708\\1461279845.py\u001b[0m in \u001b[0;36m<module>\u001b[1;34m\u001b[0m\n\u001b[1;32m----> 1\u001b[1;33m \u001b[0mnp\u001b[0m\u001b[1;33m.\u001b[0m\u001b[0misnan\u001b[0m\u001b[1;33m(\u001b[0m\u001b[0mpd\u001b[0m\u001b[1;33m.\u001b[0m\u001b[0mNaT\u001b[0m\u001b[1;33m)\u001b[0m\u001b[1;33m\u001b[0m\u001b[1;33m\u001b[0m\u001b[0m\n\u001b[0m",
      "\u001b[1;31mTypeError\u001b[0m: ufunc 'isnan' not supported for the input types, and the inputs could not be safely coerced to any supported types according to the casting rule ''safe''"
     ]
    }
   ],
   "source": [
    "np.isnan(pd.NaT) #cant compare numpy with pandas nans"
   ]
  },
  {
   "cell_type": "code",
   "execution_count": 72,
   "id": "148a743f",
   "metadata": {},
   "outputs": [
    {
     "ename": "TypeError",
     "evalue": "ufunc 'isnan' not supported for the input types, and the inputs could not be safely coerced to any supported types according to the casting rule ''safe''",
     "output_type": "error",
     "traceback": [
      "\u001b[1;31m---------------------------------------------------------------------------\u001b[0m",
      "\u001b[1;31mTypeError\u001b[0m                                 Traceback (most recent call last)",
      "\u001b[1;32m~\\AppData\\Local\\Temp\\ipykernel_4708\\2182558408.py\u001b[0m in \u001b[0;36m<module>\u001b[1;34m\u001b[0m\n\u001b[1;32m----> 1\u001b[1;33m \u001b[0mnp\u001b[0m\u001b[1;33m.\u001b[0m\u001b[0misnan\u001b[0m\u001b[1;33m(\u001b[0m\u001b[1;32mNone\u001b[0m\u001b[1;33m)\u001b[0m\u001b[1;33m\u001b[0m\u001b[1;33m\u001b[0m\u001b[0m\n\u001b[0m",
      "\u001b[1;31mTypeError\u001b[0m: ufunc 'isnan' not supported for the input types, and the inputs could not be safely coerced to any supported types according to the casting rule ''safe''"
     ]
    }
   ],
   "source": [
    "np.isnan(None) #cant compare numpy NaN with Python None"
   ]
  },
  {
   "cell_type": "code",
   "execution_count": 74,
   "id": "9151e5e4",
   "metadata": {},
   "outputs": [
    {
     "data": {
      "text/plain": [
       "2.0"
      ]
     },
     "execution_count": 74,
     "metadata": {},
     "output_type": "execute_result"
    }
   ],
   "source": [
    "np.sqrt(4) #square root"
   ]
  },
  {
   "cell_type": "code",
   "execution_count": 75,
   "id": "bd8832c1",
   "metadata": {},
   "outputs": [
    {
     "name": "stderr",
     "output_type": "stream",
     "text": [
      "C:\\Users\\prami\\AppData\\Local\\Temp\\ipykernel_4708\\1062298245.py:1: RuntimeWarning: divide by zero encountered in divide\n",
      "  np.array([10])/0\n"
     ]
    },
    {
     "data": {
      "text/plain": [
       "array([inf])"
      ]
     },
     "execution_count": 75,
     "metadata": {},
     "output_type": "execute_result"
    }
   ],
   "source": [
    "np.array([10])/0 # Numpy gives infinite whereas Python gives error"
   ]
  },
  {
   "cell_type": "code",
   "execution_count": 79,
   "id": "da40fd0b",
   "metadata": {},
   "outputs": [
    {
     "data": {
      "text/plain": [
       "array([0.1 , 0.02, 0.3 ])"
      ]
     },
     "execution_count": 79,
     "metadata": {},
     "output_type": "execute_result"
    }
   ],
   "source": [
    "np.array([1,2/10,3])/10 #element wise mathematical operation"
   ]
  },
  {
   "cell_type": "code",
   "execution_count": 146,
   "id": "274741d1",
   "metadata": {},
   "outputs": [
    {
     "data": {
      "text/plain": [
       "[1, 2, 3, 1, 2, 3]"
      ]
     },
     "execution_count": 146,
     "metadata": {},
     "output_type": "execute_result"
    }
   ],
   "source": [
    "list1 = [1,2,3] \n",
    "list1*2 #python duplicates the list"
   ]
  },
  {
   "cell_type": "code",
   "execution_count": 81,
   "id": "9ec15cf7",
   "metadata": {},
   "outputs": [
    {
     "data": {
      "text/plain": [
       "[2, 4, 6]"
      ]
     },
     "execution_count": 81,
     "metadata": {},
     "output_type": "execute_result"
    }
   ],
   "source": [
    "[ x*2 for x in list1] "
   ]
  },
  {
   "cell_type": "code",
   "execution_count": 82,
   "id": "70251ceb",
   "metadata": {},
   "outputs": [
    {
     "data": {
      "text/plain": [
       "array([2, 4, 6])"
      ]
     },
     "execution_count": 82,
     "metadata": {},
     "output_type": "execute_result"
    }
   ],
   "source": [
    "np.array(list1)*2 #numpy doesnt duplicate but does element wise operation"
   ]
  },
  {
   "cell_type": "code",
   "execution_count": 83,
   "id": "1b312cb7",
   "metadata": {},
   "outputs": [],
   "source": [
    "list2 = [5,6,7]\n"
   ]
  },
  {
   "cell_type": "code",
   "execution_count": 89,
   "id": "2e541a5c",
   "metadata": {},
   "outputs": [
    {
     "data": {
      "text/plain": [
       "[6, 8, 10]"
      ]
     },
     "execution_count": 89,
     "metadata": {},
     "output_type": "execute_result"
    }
   ],
   "source": [
    "[ x+y for x,y in zip(list1, list2)]"
   ]
  },
  {
   "cell_type": "code",
   "execution_count": 88,
   "id": "eb07c686",
   "metadata": {},
   "outputs": [
    {
     "data": {
      "text/plain": [
       "[1, 2, 3, 5, 6, 7]"
      ]
     },
     "execution_count": 88,
     "metadata": {},
     "output_type": "execute_result"
    }
   ],
   "source": [
    "list1+list2 #python appends on list addition"
   ]
  },
  {
   "cell_type": "code",
   "execution_count": 85,
   "id": "4ee92b0a",
   "metadata": {},
   "outputs": [
    {
     "data": {
      "text/plain": [
       "array([ 6,  8, 10])"
      ]
     },
     "execution_count": 85,
     "metadata": {},
     "output_type": "execute_result"
    }
   ],
   "source": [
    "np.array(list1)+np.array(list2)  #numpy does element wise operation"
   ]
  },
  {
   "cell_type": "code",
   "execution_count": 90,
   "id": "0a0d5536",
   "metadata": {},
   "outputs": [
    {
     "data": {
      "text/plain": [
       "3.321928094887362"
      ]
     },
     "execution_count": 90,
     "metadata": {},
     "output_type": "execute_result"
    }
   ],
   "source": [
    "np.log2(10)"
   ]
  },
  {
   "cell_type": "code",
   "execution_count": 91,
   "id": "e90fcd5c",
   "metadata": {},
   "outputs": [
    {
     "data": {
      "text/plain": [
       "1.0"
      ]
     },
     "execution_count": 91,
     "metadata": {},
     "output_type": "execute_result"
    }
   ],
   "source": [
    "np.log10(10)"
   ]
  },
  {
   "cell_type": "code",
   "execution_count": 104,
   "id": "e59e06aa",
   "metadata": {},
   "outputs": [],
   "source": [
    "l1 = [2,3,4]\n",
    "l2 = [10,11]\n",
    "l1.append(l2) "
   ]
  },
  {
   "cell_type": "code",
   "execution_count": 105,
   "id": "8fe593d4",
   "metadata": {},
   "outputs": [
    {
     "data": {
      "text/plain": [
       "[2, 3, 4, [10, 11]]"
      ]
     },
     "execution_count": 105,
     "metadata": {},
     "output_type": "execute_result"
    }
   ],
   "source": [
    "l1"
   ]
  },
  {
   "cell_type": "code",
   "execution_count": 106,
   "id": "8a5561f8",
   "metadata": {},
   "outputs": [],
   "source": [
    "l1 = [2,3,4]\n",
    "l2 = [10,11]\n",
    "l1.extend(l2) #flattens the list 1 time and appends"
   ]
  },
  {
   "cell_type": "code",
   "execution_count": 107,
   "id": "b4b0f590",
   "metadata": {},
   "outputs": [
    {
     "data": {
      "text/plain": [
       "[2, 3, 4, 10, 11]"
      ]
     },
     "execution_count": 107,
     "metadata": {},
     "output_type": "execute_result"
    }
   ],
   "source": [
    "l1"
   ]
  },
  {
   "cell_type": "code",
   "execution_count": 147,
   "id": "0ab645b2",
   "metadata": {},
   "outputs": [
    {
     "data": {
      "text/plain": [
       "array([ 2,  3,  4, 10, 11])"
      ]
     },
     "execution_count": 147,
     "metadata": {},
     "output_type": "execute_result"
    }
   ],
   "source": [
    "a1 = np.array([2,3,4])\n",
    "a2 = np.array([[10,11]])\n",
    "np.append(a1,a2) # by default numpy flattens the list completely (any no of times) and appends"
   ]
  },
  {
   "cell_type": "code",
   "execution_count": 135,
   "id": "d7364ff0",
   "metadata": {},
   "outputs": [
    {
     "data": {
      "text/plain": [
       "array([[ 2,  3,  4],\n",
       "       [10, 11, 12],\n",
       "       [ 9, 10, 11],\n",
       "       [10, 11, 12]])"
      ]
     },
     "execution_count": 135,
     "metadata": {},
     "output_type": "execute_result"
    }
   ],
   "source": [
    "a3 = np.array([[2,3,4],[10,11,12]])\n",
    "a4 = np.array([[9,10,11], [10,11,12]])\n",
    "np.concatenate((a3,a4), axis = 0 ) #row wise"
   ]
  },
  {
   "cell_type": "code",
   "execution_count": 136,
   "id": "7f03f9f4",
   "metadata": {},
   "outputs": [
    {
     "data": {
      "text/plain": [
       "array([[ 2,  3,  4,  9, 10, 11],\n",
       "       [10, 11, 12, 10, 11, 12]])"
      ]
     },
     "execution_count": 136,
     "metadata": {},
     "output_type": "execute_result"
    }
   ],
   "source": [
    "np.concatenate((a3,a4), axis = 1 ) #column wise"
   ]
  },
  {
   "cell_type": "code",
   "execution_count": 109,
   "id": "8da4d2f8",
   "metadata": {},
   "outputs": [
    {
     "data": {
      "text/plain": [
       "[2, 3, 4]"
      ]
     },
     "execution_count": 109,
     "metadata": {},
     "output_type": "execute_result"
    }
   ],
   "source": [
    "list(a1) #convert numpy array to python lst"
   ]
  },
  {
   "cell_type": "code",
   "execution_count": 116,
   "id": "43eb2ea9",
   "metadata": {},
   "outputs": [
    {
     "data": {
      "text/plain": [
       "array([[[25, 77, 72,  9],\n",
       "        [20, 80, 69, 79],\n",
       "        [47, 64, 82, 99]],\n",
       "\n",
       "       [[88, 49, 29, 19],\n",
       "        [19, 14, 39, 32],\n",
       "        [65,  9, 57, 32]]])"
      ]
     },
     "execution_count": 116,
     "metadata": {},
     "output_type": "execute_result"
    }
   ],
   "source": [
    "z = np.random.randint(low=0, high=100, size=(2, 3, 4)) #generating random integers for a particular shape\n",
    "z"
   ]
  },
  {
   "cell_type": "code",
   "execution_count": 117,
   "id": "f8d2acca",
   "metadata": {},
   "outputs": [
    {
     "data": {
      "text/plain": [
       "(2, 3, 4)"
      ]
     },
     "execution_count": 117,
     "metadata": {},
     "output_type": "execute_result"
    }
   ],
   "source": [
    "z.shape "
   ]
  },
  {
   "cell_type": "code",
   "execution_count": 112,
   "id": "9b433a69",
   "metadata": {},
   "outputs": [
    {
     "data": {
      "text/plain": [
       "array([10, 10, 10, 10, 10, 10, 10, 10, 10, 10, 10, 10, 10, 10, 10, 10, 10,\n",
       "       10, 10, 10, 10, 10, 10, 10])"
      ]
     },
     "execution_count": 112,
     "metadata": {},
     "output_type": "execute_result"
    }
   ],
   "source": [
    "z.reshape(-1) #converts into 1D array"
   ]
  },
  {
   "cell_type": "code",
   "execution_count": 118,
   "id": "a8dc2c96",
   "metadata": {},
   "outputs": [
    {
     "data": {
      "text/plain": [
       "array([[25, 77, 72,  9],\n",
       "       [20, 80, 69, 79],\n",
       "       [47, 64, 82, 99],\n",
       "       [88, 49, 29, 19],\n",
       "       [19, 14, 39, 32],\n",
       "       [65,  9, 57, 32]])"
      ]
     },
     "execution_count": 118,
     "metadata": {},
     "output_type": "execute_result"
    }
   ],
   "source": [
    "z.reshape(6,4)"
   ]
  },
  {
   "cell_type": "code",
   "execution_count": 119,
   "id": "841a7a07",
   "metadata": {},
   "outputs": [
    {
     "data": {
      "text/plain": [
       "array([[25, 77, 72,  9, 20, 80],\n",
       "       [69, 79, 47, 64, 82, 99],\n",
       "       [88, 49, 29, 19, 19, 14],\n",
       "       [39, 32, 65,  9, 57, 32]])"
      ]
     },
     "execution_count": 119,
     "metadata": {},
     "output_type": "execute_result"
    }
   ],
   "source": [
    "z.reshape(4,6)"
   ]
  },
  {
   "cell_type": "code",
   "execution_count": 121,
   "id": "c9eab513",
   "metadata": {},
   "outputs": [
    {
     "data": {
      "text/plain": [
       "array([25, 77, 72,  9, 20, 80, 69, 79, 47, 64, 82, 99, 88, 49, 29, 19, 19,\n",
       "       14, 39, 32, 65,  9, 57, 32])"
      ]
     },
     "execution_count": 121,
     "metadata": {},
     "output_type": "execute_result"
    }
   ],
   "source": [
    "z.reshape(-1)"
   ]
  },
  {
   "cell_type": "code",
   "execution_count": 122,
   "id": "54c9f70e",
   "metadata": {},
   "outputs": [
    {
     "data": {
      "text/plain": [
       "array([25, 77, 72,  9, 20, 80, 69, 79, 47, 64, 82, 99, 88, 49, 29, 19, 19,\n",
       "       14, 39, 32, 65,  9, 57, 32])"
      ]
     },
     "execution_count": 122,
     "metadata": {},
     "output_type": "execute_result"
    }
   ],
   "source": [
    "z.reshape((24,))"
   ]
  },
  {
   "cell_type": "code",
   "execution_count": 124,
   "id": "3de7c532",
   "metadata": {},
   "outputs": [
    {
     "data": {
      "text/plain": [
       "array([[[25, 77, 72,  9],\n",
       "        [20, 80, 69, 79],\n",
       "        [47, 64, 82, 99]],\n",
       "\n",
       "       [[88, 49, 29, 19],\n",
       "        [19, 14, 39, 32],\n",
       "        [65,  9, 57, 32]]])"
      ]
     },
     "execution_count": 124,
     "metadata": {},
     "output_type": "execute_result"
    }
   ],
   "source": [
    "z"
   ]
  },
  {
   "cell_type": "code",
   "execution_count": 123,
   "id": "e34322c7",
   "metadata": {},
   "outputs": [
    {
     "data": {
      "text/plain": [
       "array([25, 77, 72,  9, 20, 80, 69, 79, 47, 64, 82, 99, 88, 49, 29, 19, 19,\n",
       "       14, 39, 32, 65,  9, 57, 32])"
      ]
     },
     "execution_count": 123,
     "metadata": {},
     "output_type": "execute_result"
    }
   ],
   "source": [
    "z.flatten() #same as reshape(-1)"
   ]
  },
  {
   "cell_type": "code",
   "execution_count": 127,
   "id": "780ceb47",
   "metadata": {},
   "outputs": [
    {
     "data": {
      "text/plain": [
       "[25,\n",
       " 77,\n",
       " 72,\n",
       " 9,\n",
       " 20,\n",
       " 80,\n",
       " 69,\n",
       " 79,\n",
       " 47,\n",
       " 64,\n",
       " 82,\n",
       " 99,\n",
       " 88,\n",
       " 49,\n",
       " 29,\n",
       " 19,\n",
       " 19,\n",
       " 14,\n",
       " 39,\n",
       " 32,\n",
       " 65,\n",
       " 9,\n",
       " 57,\n",
       " 32]"
      ]
     },
     "execution_count": 127,
     "metadata": {},
     "output_type": "execute_result"
    }
   ],
   "source": [
    "[el for el in z.flat]"
   ]
  },
  {
   "cell_type": "code",
   "execution_count": 125,
   "id": "98ce26d6",
   "metadata": {},
   "outputs": [
    {
     "data": {
      "text/plain": [
       "<numpy.flatiter at 0x1cf142a2d10>"
      ]
     },
     "execution_count": 125,
     "metadata": {},
     "output_type": "execute_result"
    }
   ],
   "source": [
    "z.flat"
   ]
  },
  {
   "cell_type": "markdown",
   "id": "6d6eecd4",
   "metadata": {},
   "source": [
    "###### np.where"
   ]
  },
  {
   "cell_type": "code",
   "execution_count": 141,
   "id": "b3482b06",
   "metadata": {},
   "outputs": [
    {
     "data": {
      "text/html": [
       "<div>\n",
       "<style scoped>\n",
       "    .dataframe tbody tr th:only-of-type {\n",
       "        vertical-align: middle;\n",
       "    }\n",
       "\n",
       "    .dataframe tbody tr th {\n",
       "        vertical-align: top;\n",
       "    }\n",
       "\n",
       "    .dataframe thead th {\n",
       "        text-align: right;\n",
       "    }\n",
       "</style>\n",
       "<table border=\"1\" class=\"dataframe\">\n",
       "  <thead>\n",
       "    <tr style=\"text-align: right;\">\n",
       "      <th></th>\n",
       "      <th>Name</th>\n",
       "      <th>Age</th>\n",
       "      <th>City</th>\n",
       "    </tr>\n",
       "  </thead>\n",
       "  <tbody>\n",
       "    <tr>\n",
       "      <th>0</th>\n",
       "      <td>Alice</td>\n",
       "      <td>15</td>\n",
       "      <td>Houston</td>\n",
       "    </tr>\n",
       "    <tr>\n",
       "      <th>1</th>\n",
       "      <td>Bob</td>\n",
       "      <td>53</td>\n",
       "      <td>Philadelphia</td>\n",
       "    </tr>\n",
       "    <tr>\n",
       "      <th>2</th>\n",
       "      <td>Charlie</td>\n",
       "      <td>55</td>\n",
       "      <td>San Jose</td>\n",
       "    </tr>\n",
       "    <tr>\n",
       "      <th>3</th>\n",
       "      <td>David</td>\n",
       "      <td>49</td>\n",
       "      <td>Phoenix</td>\n",
       "    </tr>\n",
       "    <tr>\n",
       "      <th>4</th>\n",
       "      <td>Eva</td>\n",
       "      <td>52</td>\n",
       "      <td>Phoenix</td>\n",
       "    </tr>\n",
       "    <tr>\n",
       "      <th>5</th>\n",
       "      <td>Fiona</td>\n",
       "      <td>25</td>\n",
       "      <td>San Antonio</td>\n",
       "    </tr>\n",
       "    <tr>\n",
       "      <th>6</th>\n",
       "      <td>George</td>\n",
       "      <td>60</td>\n",
       "      <td>Phoenix</td>\n",
       "    </tr>\n",
       "    <tr>\n",
       "      <th>7</th>\n",
       "      <td>Hannah</td>\n",
       "      <td>32</td>\n",
       "      <td>Phoenix</td>\n",
       "    </tr>\n",
       "    <tr>\n",
       "      <th>8</th>\n",
       "      <td>Ian</td>\n",
       "      <td>41</td>\n",
       "      <td>Houston</td>\n",
       "    </tr>\n",
       "    <tr>\n",
       "      <th>9</th>\n",
       "      <td>Jane</td>\n",
       "      <td>14</td>\n",
       "      <td>Phoenix</td>\n",
       "    </tr>\n",
       "  </tbody>\n",
       "</table>\n",
       "</div>"
      ],
      "text/plain": [
       "      Name  Age          City\n",
       "0    Alice   15       Houston\n",
       "1      Bob   53  Philadelphia\n",
       "2  Charlie   55      San Jose\n",
       "3    David   49       Phoenix\n",
       "4      Eva   52       Phoenix\n",
       "5    Fiona   25   San Antonio\n",
       "6   George   60       Phoenix\n",
       "7   Hannah   32       Phoenix\n",
       "8      Ian   41       Houston\n",
       "9     Jane   14       Phoenix"
      ]
     },
     "execution_count": 141,
     "metadata": {},
     "output_type": "execute_result"
    }
   ],
   "source": [
    "names = [\"Alice\", \"Bob\", \"Charlie\", \"David\", \"Eva\", \"Fiona\", \"George\", \"Hannah\", \"Ian\", \"Jane\"]\n",
    "ages = np.random.randint(14, 65, size=10)  # Random ages between 18 and 65\n",
    "cities = [\"New York\", \"Los Angeles\", \"Chicago\", \"Houston\", \"Phoenix\", \"Philadelphia\", \"San Antonio\", \"San Diego\", \"Dallas\", \"San Jose\"]\n",
    "\n",
    "# Create DataFrame\n",
    "df = pd.DataFrame({\n",
    "    'Name': names,\n",
    "    'Age': ages,\n",
    "    'City': np.random.choice(cities, size=10, replace=True)  # Allow cities to repeat\n",
    "})\n",
    "\n",
    "df"
   ]
  },
  {
   "cell_type": "code",
   "execution_count": 142,
   "id": "b933658c",
   "metadata": {},
   "outputs": [
    {
     "data": {
      "text/html": [
       "<div>\n",
       "<style scoped>\n",
       "    .dataframe tbody tr th:only-of-type {\n",
       "        vertical-align: middle;\n",
       "    }\n",
       "\n",
       "    .dataframe tbody tr th {\n",
       "        vertical-align: top;\n",
       "    }\n",
       "\n",
       "    .dataframe thead th {\n",
       "        text-align: right;\n",
       "    }\n",
       "</style>\n",
       "<table border=\"1\" class=\"dataframe\">\n",
       "  <thead>\n",
       "    <tr style=\"text-align: right;\">\n",
       "      <th></th>\n",
       "      <th>Name</th>\n",
       "      <th>Age</th>\n",
       "      <th>City</th>\n",
       "      <th>class</th>\n",
       "    </tr>\n",
       "  </thead>\n",
       "  <tbody>\n",
       "    <tr>\n",
       "      <th>0</th>\n",
       "      <td>Alice</td>\n",
       "      <td>15</td>\n",
       "      <td>Houston</td>\n",
       "      <td>Minor</td>\n",
       "    </tr>\n",
       "    <tr>\n",
       "      <th>1</th>\n",
       "      <td>Bob</td>\n",
       "      <td>53</td>\n",
       "      <td>Philadelphia</td>\n",
       "      <td>Major</td>\n",
       "    </tr>\n",
       "    <tr>\n",
       "      <th>2</th>\n",
       "      <td>Charlie</td>\n",
       "      <td>55</td>\n",
       "      <td>San Jose</td>\n",
       "      <td>Major</td>\n",
       "    </tr>\n",
       "    <tr>\n",
       "      <th>3</th>\n",
       "      <td>David</td>\n",
       "      <td>49</td>\n",
       "      <td>Phoenix</td>\n",
       "      <td>Major</td>\n",
       "    </tr>\n",
       "    <tr>\n",
       "      <th>4</th>\n",
       "      <td>Eva</td>\n",
       "      <td>52</td>\n",
       "      <td>Phoenix</td>\n",
       "      <td>Major</td>\n",
       "    </tr>\n",
       "    <tr>\n",
       "      <th>5</th>\n",
       "      <td>Fiona</td>\n",
       "      <td>25</td>\n",
       "      <td>San Antonio</td>\n",
       "      <td>Major</td>\n",
       "    </tr>\n",
       "    <tr>\n",
       "      <th>6</th>\n",
       "      <td>George</td>\n",
       "      <td>60</td>\n",
       "      <td>Phoenix</td>\n",
       "      <td>Major</td>\n",
       "    </tr>\n",
       "    <tr>\n",
       "      <th>7</th>\n",
       "      <td>Hannah</td>\n",
       "      <td>32</td>\n",
       "      <td>Phoenix</td>\n",
       "      <td>Major</td>\n",
       "    </tr>\n",
       "    <tr>\n",
       "      <th>8</th>\n",
       "      <td>Ian</td>\n",
       "      <td>41</td>\n",
       "      <td>Houston</td>\n",
       "      <td>Major</td>\n",
       "    </tr>\n",
       "    <tr>\n",
       "      <th>9</th>\n",
       "      <td>Jane</td>\n",
       "      <td>14</td>\n",
       "      <td>Phoenix</td>\n",
       "      <td>Minor</td>\n",
       "    </tr>\n",
       "  </tbody>\n",
       "</table>\n",
       "</div>"
      ],
      "text/plain": [
       "      Name  Age          City  class\n",
       "0    Alice   15       Houston  Minor\n",
       "1      Bob   53  Philadelphia  Major\n",
       "2  Charlie   55      San Jose  Major\n",
       "3    David   49       Phoenix  Major\n",
       "4      Eva   52       Phoenix  Major\n",
       "5    Fiona   25   San Antonio  Major\n",
       "6   George   60       Phoenix  Major\n",
       "7   Hannah   32       Phoenix  Major\n",
       "8      Ian   41       Houston  Major\n",
       "9     Jane   14       Phoenix  Minor"
      ]
     },
     "execution_count": 142,
     "metadata": {},
     "output_type": "execute_result"
    }
   ],
   "source": [
    "def age_check(a):\n",
    "    if a>21:\n",
    "        return \"Major\"\n",
    "    else:\n",
    "        return \"Minor\"\n",
    "    \n",
    "\n",
    "df[\"class\"] = df[\"Age\"].apply(lambda x: age_check(x))\n",
    "df"
   ]
  },
  {
   "cell_type": "code",
   "execution_count": 144,
   "id": "33fa5edc",
   "metadata": {},
   "outputs": [
    {
     "data": {
      "text/html": [
       "<div>\n",
       "<style scoped>\n",
       "    .dataframe tbody tr th:only-of-type {\n",
       "        vertical-align: middle;\n",
       "    }\n",
       "\n",
       "    .dataframe tbody tr th {\n",
       "        vertical-align: top;\n",
       "    }\n",
       "\n",
       "    .dataframe thead th {\n",
       "        text-align: right;\n",
       "    }\n",
       "</style>\n",
       "<table border=\"1\" class=\"dataframe\">\n",
       "  <thead>\n",
       "    <tr style=\"text-align: right;\">\n",
       "      <th></th>\n",
       "      <th>Name</th>\n",
       "      <th>Age</th>\n",
       "      <th>City</th>\n",
       "      <th>class</th>\n",
       "      <th>class2</th>\n",
       "    </tr>\n",
       "  </thead>\n",
       "  <tbody>\n",
       "    <tr>\n",
       "      <th>0</th>\n",
       "      <td>Alice</td>\n",
       "      <td>15</td>\n",
       "      <td>Houston</td>\n",
       "      <td>Minor</td>\n",
       "      <td>Minor</td>\n",
       "    </tr>\n",
       "    <tr>\n",
       "      <th>1</th>\n",
       "      <td>Bob</td>\n",
       "      <td>53</td>\n",
       "      <td>Philadelphia</td>\n",
       "      <td>Major</td>\n",
       "      <td>Major</td>\n",
       "    </tr>\n",
       "    <tr>\n",
       "      <th>2</th>\n",
       "      <td>Charlie</td>\n",
       "      <td>55</td>\n",
       "      <td>San Jose</td>\n",
       "      <td>Major</td>\n",
       "      <td>Major</td>\n",
       "    </tr>\n",
       "    <tr>\n",
       "      <th>3</th>\n",
       "      <td>David</td>\n",
       "      <td>49</td>\n",
       "      <td>Phoenix</td>\n",
       "      <td>Major</td>\n",
       "      <td>Major</td>\n",
       "    </tr>\n",
       "    <tr>\n",
       "      <th>4</th>\n",
       "      <td>Eva</td>\n",
       "      <td>52</td>\n",
       "      <td>Phoenix</td>\n",
       "      <td>Major</td>\n",
       "      <td>Major</td>\n",
       "    </tr>\n",
       "    <tr>\n",
       "      <th>5</th>\n",
       "      <td>Fiona</td>\n",
       "      <td>25</td>\n",
       "      <td>San Antonio</td>\n",
       "      <td>Major</td>\n",
       "      <td>Medium</td>\n",
       "    </tr>\n",
       "    <tr>\n",
       "      <th>6</th>\n",
       "      <td>George</td>\n",
       "      <td>60</td>\n",
       "      <td>Phoenix</td>\n",
       "      <td>Major</td>\n",
       "      <td>Major</td>\n",
       "    </tr>\n",
       "    <tr>\n",
       "      <th>7</th>\n",
       "      <td>Hannah</td>\n",
       "      <td>32</td>\n",
       "      <td>Phoenix</td>\n",
       "      <td>Major</td>\n",
       "      <td>Medium</td>\n",
       "    </tr>\n",
       "    <tr>\n",
       "      <th>8</th>\n",
       "      <td>Ian</td>\n",
       "      <td>41</td>\n",
       "      <td>Houston</td>\n",
       "      <td>Major</td>\n",
       "      <td>Minor</td>\n",
       "    </tr>\n",
       "    <tr>\n",
       "      <th>9</th>\n",
       "      <td>Jane</td>\n",
       "      <td>14</td>\n",
       "      <td>Phoenix</td>\n",
       "      <td>Minor</td>\n",
       "      <td>Minor</td>\n",
       "    </tr>\n",
       "  </tbody>\n",
       "</table>\n",
       "</div>"
      ],
      "text/plain": [
       "      Name  Age          City  class  class2\n",
       "0    Alice   15       Houston  Minor   Minor\n",
       "1      Bob   53  Philadelphia  Major   Major\n",
       "2  Charlie   55      San Jose  Major   Major\n",
       "3    David   49       Phoenix  Major   Major\n",
       "4      Eva   52       Phoenix  Major   Major\n",
       "5    Fiona   25   San Antonio  Major  Medium\n",
       "6   George   60       Phoenix  Major   Major\n",
       "7   Hannah   32       Phoenix  Major  Medium\n",
       "8      Ian   41       Houston  Major   Minor\n",
       "9     Jane   14       Phoenix  Minor   Minor"
      ]
     },
     "execution_count": 144,
     "metadata": {},
     "output_type": "execute_result"
    }
   ],
   "source": [
    "df[\"class2\"] = np.where(df[\"Age\"] > 41, \"Major\", np.where((df[\"Age\"] > 18) & (df[\"Age\"] < 41),\"Medium\",\"Minor\"))\n",
    "df"
   ]
  },
  {
   "cell_type": "code",
   "execution_count": null,
   "id": "48bdbd3b",
   "metadata": {},
   "outputs": [],
   "source": [
    "#np.where((condition1), T, np.where((cond2 if not cond1),T , F))"
   ]
  }
 ],
 "metadata": {
  "kernelspec": {
   "display_name": "Python 3 (ipykernel)",
   "language": "python",
   "name": "python3"
  },
  "language_info": {
   "codemirror_mode": {
    "name": "ipython",
    "version": 3
   },
   "file_extension": ".py",
   "mimetype": "text/x-python",
   "name": "python",
   "nbconvert_exporter": "python",
   "pygments_lexer": "ipython3",
   "version": "3.9.13"
  }
 },
 "nbformat": 4,
 "nbformat_minor": 5
}
